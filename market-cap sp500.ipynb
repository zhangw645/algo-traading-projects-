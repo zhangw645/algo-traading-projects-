{
 "cells": [
  {
   "cell_type": "markdown",
   "id": "226160af",
   "metadata": {},
   "source": [
    "# Lib import\n",
    "\n",
    "S&P 500 index is a market-capitalization index. This project will show how many shares of each constituents should I trade to get S&P 500 index fund. "
   ]
  },
  {
   "cell_type": "code",
   "execution_count": 1,
   "id": "830934bd",
   "metadata": {},
   "outputs": [],
   "source": [
    "import pandas as pd\n",
    "import numpy as np\n",
    "import requests \n",
    "import xlsxwriter\n",
    "import math"
   ]
  },
  {
   "cell_type": "markdown",
   "id": "ae6ffb7d",
   "metadata": {},
   "source": [
    "# Stock list\n",
    "\n",
    "Below is the constituents list. The url for this list is given: https://drive.google.com/file/d/1ZJSpbY69DVckVZlO9cC6KkgfSufybcHN/view"
   ]
  },
  {
   "cell_type": "code",
   "execution_count": null,
   "id": "e40a247e",
   "metadata": {},
   "outputs": [],
   "source": [
    "stocks = pd.read_csv('sp_500_stocks.csv')\n",
    "stocks\n",
    "stocks = stocks[~stocks['Ticker'].isin(['DISCA', 'HFC','VIAC','WLTW'])]"
   ]
  },
  {
   "cell_type": "markdown",
   "id": "f4971683",
   "metadata": {},
   "source": [
    "# API token\n",
    "\n",
    "I used IEX cloud API token, which will provide the data for me. This is a sandbox mode API token which is free. "
   ]
  },
  {
   "cell_type": "code",
   "execution_count": null,
   "id": "58fae8cb",
   "metadata": {},
   "outputs": [],
   "source": [
    "IEX_CLOUD_API_TOKEN = 'Tpk_059b97af715d417d9f49f50b51b1c448'"
   ]
  },
  {
   "cell_type": "markdown",
   "id": "9fd65f65",
   "metadata": {},
   "source": [
    "# Call API "
   ]
  },
  {
   "cell_type": "code",
   "execution_count": null,
   "id": "10fe123d",
   "metadata": {},
   "outputs": [],
   "source": [
    "symbol = 'AAPL'\n",
    "api_url = f'https://sandbox.iexapis.com/stable/stock/{symbol}/quote/?token={IEX_CLOUD_API_TOKEN}'\n",
    "data = requests.get(api_url).json()\n",
    "print(data)"
   ]
  },
  {
   "cell_type": "markdown",
   "id": "98386ca5",
   "metadata": {},
   "source": [
    "# Parsing API call"
   ]
  },
  {
   "cell_type": "code",
   "execution_count": null,
   "id": "9599aa19",
   "metadata": {},
   "outputs": [],
   "source": [
    "price = data['latestPrice']\n",
    "market_cap = data['marketCap']\n",
    "marketCap = float(market_cap)"
   ]
  },
  {
   "cell_type": "markdown",
   "id": "c2e84100",
   "metadata": {},
   "source": [
    "# Creating a DataFrame using pandas "
   ]
  },
  {
   "cell_type": "code",
   "execution_count": null,
   "id": "a275be65",
   "metadata": {},
   "outputs": [],
   "source": [
    "my_columns = ['Ticker','Stock Price', 'Market Capitalization']\n",
    "final_dataframe = pd.DataFrame(columns = my_columns)\n",
    "final_dataframe"
   ]
  },
  {
   "cell_type": "markdown",
   "id": "98c7a0d2",
   "metadata": {},
   "source": [
    "# Batch API for good performance"
   ]
  },
  {
   "cell_type": "code",
   "execution_count": null,
   "id": "6a07ab61",
   "metadata": {},
   "outputs": [],
   "source": [
    "def chunks(lst,n):\n",
    "    \"\"\"Yield successive n-siozed chunks from lst.\"\"\"\n",
    "    for i in range(0,len(lst),n):\n",
    "        yield lst[i:i + n]"
   ]
  },
  {
   "cell_type": "code",
   "execution_count": null,
   "id": "4f989cbd",
   "metadata": {},
   "outputs": [],
   "source": [
    "symbol_groups = list(chunks(stocks['Ticker'],100))\n",
    "symbol_strings = []\n",
    "for i in range(0,len(symbol_groups)):\n",
    "    symbol_strings.append(','.join(symbol_groups[i]))\n",
    "    \n",
    "final_dataframe = pd.DataFrame(columns = my_columns)\n",
    "for symbol_string in symbol_strings:\n",
    "    batch_api_call_url = f'https://sandbox.iexapis.com/stable/stock/market/batch?symbols={symbol_string}&types=quote&token={IEX_CLOUD_API_TOKEN}'\n",
    "    print(batch_api_call_url)\n",
    "    data = requests.get(batch_api_call_url).json()\n",
    "    for symbol in symbol_string.split(','):\n",
    "        final_dataframe = final_dataframe.append(\n",
    "            pd.Series(\n",
    "            [\n",
    "                symbol,\n",
    "                data[symbol]['quote']['latestPrice'],\n",
    "                data[symbol]['quote']['marketCap']\n",
    "                \n",
    "            ],\n",
    "            index = my_columns\n",
    "         ),\n",
    "        ignore_index = True\n",
    "    \n",
    "    \n",
    "    \n",
    "    )\n",
    "final_dataframe\n",
    "\n"
   ]
  },
  {
   "cell_type": "markdown",
   "id": "71d573bf",
   "metadata": {},
   "source": [
    "# Since the constituents has changed, I subbed out the N/A for 0"
   ]
  },
  {
   "cell_type": "code",
   "execution_count": null,
   "id": "1dbce658",
   "metadata": {},
   "outputs": [],
   "source": [
    "marketCap_list = list(final_dataframe['Market Capitalization'])\n",
    "type(marketCap_list)\n",
    "\n",
    "replaced_marketCap_list = [0 if i is None else i for i in marketCap_list]\n",
    "replaced_marketCap_list"
   ]
  },
  {
   "cell_type": "markdown",
   "id": "96ea5599",
   "metadata": {},
   "source": [
    "# Getting portfolio size information "
   ]
  },
  {
   "cell_type": "code",
   "execution_count": null,
   "id": "fa96c38c",
   "metadata": {},
   "outputs": [],
   "source": [
    "portfolio_size = input(\"Enter the value of your portfolio:\")\n",
    "val = float(portfolio_size)"
   ]
  },
  {
   "cell_type": "markdown",
   "id": "321ee7df",
   "metadata": {},
   "source": [
    "# Converting Market-cap of each constituent company to a percentage of the Market-cap for all constituents. & add a column to dataframe &calculate position to buy for each constituents. "
   ]
  },
  {
   "cell_type": "code",
   "execution_count": null,
   "id": "cf524323",
   "metadata": {},
   "outputs": [],
   "source": [
    "percentage_filtered_marketCap_list = \n",
    "for i in replaced_marketCap_list:\n",
    "    percentage_filtered_marketCap_list.append(i/sum(replaced_marketCap_list))\n",
    "    \n",
    "final_dataframe[i,'Market Capitalization Percentage'] = percentage_filtered_marketCap_list\n",
    "    \n",
    "Position_to_Buy = []\n",
    "for i in percentage_filtered_marketCap_list:\n",
    "    Position_to_Buy.append(i * val)\n",
    "    \n",
    "final_dataframe[i,'Position to buy'] = Position_to_Buy\n",
    "\n",
    "final_dataframe"
   ]
  }
 ],
 "metadata": {
  "celltoolbar": "Attachments",
  "kernelspec": {
   "display_name": "Python 3 (ipykernel)",
   "language": "python",
   "name": "python3"
  },
  "language_info": {
   "codemirror_mode": {
    "name": "ipython",
    "version": 3
   },
   "file_extension": ".py",
   "mimetype": "text/x-python",
   "name": "python",
   "nbconvert_exporter": "python",
   "pygments_lexer": "ipython3",
   "version": "3.10.7"
  }
 },
 "nbformat": 4,
 "nbformat_minor": 5
}
